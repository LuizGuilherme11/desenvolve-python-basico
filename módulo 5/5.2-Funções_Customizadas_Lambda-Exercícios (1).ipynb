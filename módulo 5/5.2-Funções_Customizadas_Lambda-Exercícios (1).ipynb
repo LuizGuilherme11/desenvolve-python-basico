{
  "metadata": {
    "kernelspec": {
      "name": "python",
      "display_name": "Python (Pyodide)",
      "language": "python"
    },
    "language_info": {
      "codemirror_mode": {
        "name": "python",
        "version": 3
      },
      "file_extension": ".py",
      "mimetype": "text/x-python",
      "name": "python",
      "nbconvert_exporter": "python",
      "pygments_lexer": "ipython3",
      "version": "3.8"
    }
  },
  "nbformat_minor": 5,
  "nbformat": 4,
  "cells": [
    {
      "id": "cbdff5a5",
      "cell_type": "markdown",
      "source": "# Módulo 5 - Funções\n\n## Aulas 5.2 - Funções Customizadas e 5.4 Funções ```lambda```",
      "metadata": {}
    },
    {
      "id": "28a3fee2",
      "cell_type": "markdown",
      "source": "### Q1.\n\n- Sabendo que o código a seguir calcula o fatorial de n, escreva uma função chamada ```fatorial()``` que recebe um inteiro ```n``` como parâmetro e retorna o resultado do fatorial de ```n```. \n- No programa principal, peça ao usuário o valor de ```n```, chame a sua função e imprima o retorno.\n\n```python\nfat = 1\nfor i in range(1, n+1):\n    fat *= i \n```",
      "metadata": {}
    },
    {
      "id": "d126b3a5",
      "cell_type": "code",
      "source": "## Crie aqui a função fatorial()\n## lembre-se de executar a célula para que \n## a função passe a existir e possa ser chamada\n\n#definição da função\ndef fatorial(valor):\n    #corpo da função\n    fat = 1\n    for i in range (1, valor+1):\n        fat *= i\n    return(fat)\n",
      "metadata": {
        "trusted": true
      },
      "outputs": [],
      "execution_count": 1
    },
    {
      "id": "6e4fe64e",
      "cell_type": "code",
      "source": "## Escreva aqui o programa principal e execute a célula\n#inicio do programa\nn = int(input(\"digite um valor: \")) #entrada do valor\nfatorial_de_n = fatorial(n)\nprint(f'{n}! = {fatorial_de_n}')",
      "metadata": {
        "trusted": true,
        "scrolled": true
      },
      "outputs": [],
      "execution_count": 5
    },
    {
      "id": "c0a1f599",
      "cell_type": "markdown",
      "source": "### Q2.\n\n- Escreva uma função em Python chamada ```soma_quadrados``` que recebe dois números como parâmetros e retorna a soma dos seus quadrados. \n- No programa principal solicite ao usuário que insira dois números e utilize a função para exibir a soma dos quadrados.",
      "metadata": {}
    },
    {
      "id": "6dbddaad",
      "cell_type": "code",
      "source": "## Crie aqui a função soma_quadrados()\n#definição da função\n#calcula o quadrado de dois números solicitados e soma seus resultados\ndef soma_quadrados(a, b):\n    resultado = (valor1**2 + valor2**2) #valor1 = a e valor2 = b\n    return(resultado)",
      "metadata": {
        "trusted": true
      },
      "outputs": [],
      "execution_count": 6
    },
    {
      "id": "9175a7da",
      "cell_type": "code",
      "source": "## Escreva aqui o programa principal e execute a célula\n#corpo\nvalor1 = int(input('insira o primeiro número: ')) #solicita o primeiro valor\nvalor2 = int(input('insira o segundo número: '))  #solicita o segundo valor\nsoma = soma_quadrados(valor1, valor2)\nprint(soma)",
      "metadata": {
        "trusted": true
      },
      "outputs": [],
      "execution_count": 8
    },
    {
      "id": "6ba34ce0",
      "cell_type": "markdown",
      "source": "### Q3.\n\n- Crie uma função em Python chamada ```soma_digitos``` que recebe um número inteiro como parâmetro e retorna a soma dos seus dígitos. Por exemplo, para o número 123, a função deve retornar 6, $(1 + 2 + 3)$.\n    - O desafio aqui é separar os dígitos de um número inteiro usando operações aritméticas <br> <br>\n\n- No programa principal solicite ao usuário que insira um número e utilize a função ```soma_digitos``` para calcular e exibir a soma dos seus dígitos.",
      "metadata": {}
    },
    {
      "id": "34838ebf",
      "cell_type": "code",
      "source": "## Crie aqui a função soma_digitos()\n# função para somar 2 números\ndef soma_digitos(n1, n2):\n    resultado = n1 + n2\n    return(resultado)",
      "metadata": {},
      "outputs": [],
      "execution_count": null
    },
    {
      "id": "27c35b21",
      "cell_type": "code",
      "source": "## Escreva aqui o programa principal e execute a célula\nvalor1 = int(input('primeiro número: ')) #entrada dos 2 valores que serão somados\nvalor2 = int(input('segundo número: '))\nsoma = soma_digitos(valor1, valor2)\nprint(soma) #saída",
      "metadata": {},
      "outputs": [],
      "execution_count": null
    },
    {
      "id": "c318b159",
      "cell_type": "markdown",
      "source": "### Q4.\n\n- Crie a função ```inverteValor()``` que recebe um inteiro de qualquer tamanho e retorna esse valor invertido usando apenas operações aritméticas\n- Crie a função ```verificaInverso()``` que recebe o valor original e o valor invertido e retorna verdadeiro se ambos forem igualmente par ou igualmente ímpar. Retorne falso caso contrário.\n- No programa principal, peça um valor do usuário e imprima o retorno de ambas as funções.\n",
      "metadata": {}
    },
    {
      "id": "799e0a52-ed8a-48e3-a635-8f4029f8625e",
      "cell_type": "code",
      "source": "",
      "metadata": {
        "trusted": true
      },
      "outputs": [],
      "execution_count": null
    },
    {
      "id": "e4e47d1d",
      "cell_type": "code",
      "source": "## Crie aqui as funções inverteValor() e verificaInverso()\n\ndef inverteValor(n):\n    \"\"\"\n    Função que inverte os dígitos de um número inteiro.\n    \"\"\"\n    inverso = 0\n    while n != 0:\n        digito = n % 10  #Pega o último dígito\n        inverso = inverso * 10 + digito  #Adiciona o dígito ao número invertido\n        n = n // 10  #Remove o último dígito do número original\n    return inverso\n\ndef verificaInverso(original, invertido):\n    \"\"\"\n    Função que verifica se o número original e o número invertido são igualmente par ou igualmente ímpar.\n    \"\"\"\n    #Verifica se ambos são pares ou ambos são ímpares\n    return (original % 2 == invertido % 2)",
      "metadata": {},
      "outputs": [],
      "execution_count": null
    },
    {
      "id": "a9514e56",
      "cell_type": "code",
      "source": "## Escreva aqui o programa principal e execute a célula\nnumero = int(input(\"Digite um número inteiro: \"))\n\n#Obtém o valor invertido\nnumero_invertido = inverteValor(numero)\n\n#Exibe os resultados\nprint(f\"Valor original: {numero}\")\nprint(f\"Valor invertido: {numero_invertido}\")\n\n#Verifica se ambos são pares ou ambos ímpares\nif verificaInverso(numero, numero_invertido):\n    print(\"O número original e o número invertido são igualmente par ou igualmente ímpar.\")\nelse:\n    print(\"O número original e o número invertido não são igualmente par ou igualmente ímpar.\")",
      "metadata": {
        "trusted": true
      },
      "outputs": [],
      "execution_count": 2
    },
    {
      "id": "329be966",
      "cell_type": "markdown",
      "source": "### Q5.\n\nVocê está desenvolvendo um programa para auxiliar em cálculos de geometria básica. Crie as seguintes funções:\n- A função ```calcula_perimetro_triangulo()``` que recebe três inteiros correspondentes aos lados de um triângulo e retorna o perímetro do triângulo, ou seja, a soma dos seus lados.\n- A função ```calcula_perimetro_circulo()``` que recebe um inteiro referente ao raio do círculo e retorna o perímetro do círculo, dado por $2 \\pi r$. Use a constante $\\pi$ da biblioteca ```math```.\n- A função ```calcula_perimetro_retangulo()``` que possui um parâmetro obrigatório ```lado1``` e um opcional ```lado2```, ambos inteiros. Se o valor opcional não for fornecido, significa que se trata de um quadrado. Sua função deve calcular e retornar o perímetro do retângulo, ou seja, a soma de seus lados. \n    - Para o quadrado, é dado por $4 \\times lado1$\n    - Para o retângulo é dado por $2 \\times lado1 + 2 \\times lado2$\n    \n- No programa principal apresente um menu com as opções disponíveis do seu sistema e uma quarta opção ```Sair```. Solicite ao usuário a opção desejada, solicite as entradas correspondentes à opção escolhida, invoque a respective função e apresente o seu retorno. Seu programa deve retornar ao menu até que o usuário escolha a opção ```Sair```\n\nExemplo de interação:\n```\n1 - Calcular perímetro triângulo\n2 - Calcular perímetro círculo\n3 - Calcular perímetro retângulo\n4 - Sair\n\nOpção: 1\nDigite os três lados do triângulo:\n3\n4\n5\nO perímetro é: 12\n\n1 - Calcular perímetro triângulo\n2 - Calcular perímetro círculo\n3 - Calcular perímetro retângulo\n4 - Sair\n\nOpção: 3\nInforme os dois lados do retângulo. Se for um quadrado, digite 0 para o segundo valor:\n5\n0\nO perímetro é: 20\n\n1 - Calcular perímetro triângulo\n2 - Calcular perímetro círculo\n3 - Calcular perímetro retângulo\n4 - Sair\n\nOpção: 4\n```",
      "metadata": {}
    },
    {
      "id": "0793d328",
      "cell_type": "code",
      "source": "## Crie aqui as funções \nimport math\ndef menu():\n    while True:\n        ### Exibe o menu de opções\n        print(\"1 - Calcular perímetro triângulo\")\n        print(\"2 - Calcular perímetro círculo\")\n        print(\"3 - Calcular perímetro retângulo\")\n        print(\"4 - Sair\")\n###  função para calcular perímetro do triângulo\ndef calcula_perimetro_triangulo(n1, n2, n3):\n    perimetro_triangulo = n1 + n2 + n3\n    return(perimetro_triangulo)\n\n### função para perímetro do círculo\ndef calcula_perimetro_circulo(raio):\n    perimetro_circulo = (math.pi * 2 * raio)\n    return(perimetro_circulo)\n\n### função para perímetro do retângulo ou quadrado\ndef calcula_perimetro_retangulo(lado1, lado2=0):\n    perimetro_retangulo = 2 * lado1 + 2 * lado2\n    perimetro_quadrado = 4 * lado1\n    if lado2 == 0:\n        return(perimetro_quadrado)\n    else:\n        return(perimetro_retangulo)\n",
      "metadata": {},
      "outputs": [],
      "execution_count": null
    },
    {
      "id": "36269c71",
      "cell_type": "code",
      "source": "## Escreva aqui o programa principal \n # Solicita a opção do usuário\n        opcao = int(input(\"Opção: \"))\n        \n        if opcao == 1:\n            # Calcular perímetro triângulo\n            print(\"Digite os três lados do triângulo:\")\n            lado1 = int(input(\"Lado 1: \"))\n            lado2 = int(input(\"Lado 2: \"))\n            lado3 = int(input(\"Lado 3: \"))\n            perimetro = calcula_perimetro_triangulo(lado1, lado2, lado3)\n            print(f\"O perímetro é: {perimetro}\")\n        \n        elif opcao == 2:\n            # Calcular perímetro círculo\n            raio = int(input(\"Digite o raio do círculo: \"))\n            perimetro = calcula_perimetro_circulo(raio)\n            print(f\"O perímetro do círculo é: {perimetro:.2f}\")\n        \n        elif opcao == 3:\n            # Calcular perímetro retângulo ou quadrado\n            lado1 = int(input(\"Informe o primeiro lado: \"))\n            lado2 = int(input(\"Informe o segundo lado (se for um quadrado, digite 0): \"))\n            perimetro = calcula_perimetro_retangulo(lado1, lado2)\n            print(f\"O perímetro é: {perimetro}\")\n        \n        elif opcao == 4:\n            # Sair\n            print(\"Saindo do programa...\")\n            break\n        \n        else:\n            print(\"Opção inválida. Tente novamente.\")\nmenu()",
      "metadata": {},
      "outputs": [],
      "execution_count": null
    },
    {
      "id": "3016bcc7",
      "cell_type": "markdown",
      "source": "## Funções ```lambda```",
      "metadata": {}
    },
    {
      "id": "f9cdb8dd",
      "cell_type": "markdown",
      "source": "### Q6.\n\nCrie uma função lambda para verificar se um número é par ou ímpar. Em seguida, solicite ao usuário um número indefinidos de valores (até que o usuário digite 0). Para cada valor de entrada, informe se é par ou ímpar.\n\nExemplo de interação:\n```\nDigite os valores que deseja verificar a paridade (digite 0 para finalizar a entrada de dados):\n3\nímpar\n8\npar\n12\npar\n5\nímpar\n7ímpar\n```",
      "metadata": {}
    },
    {
      "id": "e3c31a78",
      "cell_type": "code",
      "source": "par_impar = lambda x: \"par\" if x % 2 == 0 else \"ímpar\" #função lambda\nprint(\"Digite os valores(digite 0 para finalizar a entrada de dados): \")\nwhile True:\n    numero = int(input())  # Coleta o número do usuário\n    if numero == 0:\n        break  # Encerra o loop se o número for 0\n    print(par_impar(numero))",
      "metadata": {},
      "outputs": [],
      "execution_count": null
    },
    {
      "id": "5a87474d",
      "cell_type": "markdown",
      "source": "### Q7.\n\nEscreva um programa que pergunte ao usuário qual operação ele deseja: maior ou menor.\nEm seguida leia uma quantidade indefinida de valores do usuário, até que o usuário digite o valor zero.\nApresente ao final o maior ou menor dos valores digitados de acordo com a escolha do usuário.\n\n**Sua solução deve incluir pelo menos uma função ```lambda```** \n\nExemplo de interação:\n```\nOpções: (1) maior ou (2) menor?\nOpção: 1\n\nDigite os valores de entrada. Digite 0 para finalizar a entrada de valores.\n4\n12\n15\n1\n0\n\nO maior valor é: 15\n```",
      "metadata": {}
    },
    {
      "id": "ee3f68ca",
      "cell_type": "code",
      "source": "## Escreva aqui o programa principal \noperação = int(input('qual operaçao você deseja (1) maior ou (2) menor)? ')) #entrada para saber se o valor deve ser o maior ou menor\nif operação == 1:\n    resultado = float('-inf')         # funçao para \"maior\", quando a for maior que b será maior que -inf\n    função = lambda a, b: a > b\nelse:\n    resultado = float('inf')          # funçao para \"menor\", quando a for menor que b será menor que inf\n    função = lambda a, b: a < b\nwhile True:\n    n = int(input('digite um valor(0 para encerrar): ')) # entrada de dados\n    if x == 0: break\nif função(n, resultado):              # uso da função, para atualizar o valor quando for maior, caso seja pedido ou menor\n     resultado = n\nprint(resultado)\n",
      "metadata": {},
      "outputs": [],
      "execution_count": null
    }
  ]
}