{
  "metadata": {
    "kernelspec": {
      "name": "python",
      "display_name": "Python (Pyodide)",
      "language": "python"
    },
    "language_info": {
      "codemirror_mode": {
        "name": "python",
        "version": 3
      },
      "file_extension": ".py",
      "mimetype": "text/x-python",
      "name": "python",
      "nbconvert_exporter": "python",
      "pygments_lexer": "ipython3",
      "version": "3.8"
    }
  },
  "nbformat_minor": 5,
  "nbformat": 4,
  "cells": [
    {
      "id": "0d5035b5",
      "cell_type": "markdown",
      "source": "# Listas\n\n## Aulas 6.1 a 6.5 ",
      "metadata": {}
    },
    {
      "id": "0bdece85",
      "cell_type": "markdown",
      "source": "### Q1. \n\nUsando a função embutida ```map``` e criando uma função ```lambda```, transforme uma lista com os raios de múltiplas circunferências em uma nova lista com as respectivas áreas. O cálculo de cada área é dado por: ```pi*(raio**2)```\n- Use a constante pi da biblioteca math \n- Arredonde o resultado para 2 casas decimais\n",
      "metadata": {}
    },
    {
      "id": "0a258eba",
      "cell_type": "code",
      "source": "## Complete a solução\nimport math\nraios = [1.5, 0.8, 2.3, 5.0]\n\n## Complete a solução\narea = map(lambda raio: round(math.pi*(raio**2), 2), raios)\nprint(list(area))\n",
      "metadata": {
        "trusted": true
      },
      "outputs": [
        {
          "name": "stdout",
          "output_type": "stream",
          "text": "[7.07, 2.01, 16.62, 78.54]\n"
        }
      ],
      "execution_count": 1
    },
    {
      "id": "649a5082",
      "cell_type": "markdown",
      "source": "### Q2. \n\nCrie uma função customizada e aplique a função embutida ```filter``` para operar em uma lista de listas contendo os lados de múltiplos triângulos. Construa uma nova lista contendo apenas os triângulos equiláteros, ou seja, com os três lados iguais.\n",
      "metadata": {}
    },
    {
      "id": "47cb0573",
      "cell_type": "code",
      "source": "## Crie a função customizada\ndef testa_equilatero(lados):\n    ###\n    return lados[0] == lados[1] == lados[2]\n### Usando filter, aplique a função customizada aos seguintes triangulos\ntriangulos  = [[2,2,2], [3,4,5], [3,2,2],[4,4,4]]\nequilateros = filter(testa_equilatero, triangulos)\nprint(list(equilateros))",
      "metadata": {
        "trusted": true
      },
      "outputs": [
        {
          "name": "stdout",
          "output_type": "stream",
          "text": "[[2, 2, 2], [4, 4, 4]]\n"
        }
      ],
      "execution_count": 2
    },
    {
      "id": "bb62d219",
      "cell_type": "markdown",
      "source": "### Q3. \nCrie uma função chamada ```ordena_por_comprimento``` que aceite uma lista de strings e a ordene com base no comprimento das strings, do menor para o maior. Utilize a função ```sorte``` e uma expressão ```lambda```.",
      "metadata": {}
    },
    {
      "id": "add41556",
      "cell_type": "code",
      "source": "### crie a função ordena_por_comprimento e retorne a lista resultado\ndef ordena_por_comprimento(lista):\n    lista.sort(key=lambda x: len(x))\n    return lista\n\n### aplique sua função à seguinte lista e imprima o resultado\nnomes = [\"Joao\", \"Maria\", \"Jose\", \"Gabriela\", \"Sol\", \"Luna\", \"Bento\", \"Enzo\", \"Fernanda\"]\n\nresultado = ordena_por_comprimento(nomes)\nprint(resultado)\n",
      "metadata": {
        "trusted": true
      },
      "outputs": [
        {
          "name": "stdout",
          "output_type": "stream",
          "text": "['Sol', 'Joao', 'Jose', 'Luna', 'Enzo', 'Maria', 'Bento', 'Gabriela', 'Fernanda']\n"
        }
      ],
      "execution_count": 2
    },
    {
      "id": "8710b1a7",
      "cell_type": "markdown",
      "source": "### Q4.\n\nCrie uma lista de listas (uma matriz de 2 dimensões) de tamanho $n \\times n$, com $n$ dado pelo usuário. Cada elemento da matriz deve ser o produto dos índices da linha pela coluna.\n\nExemplo:\n```\nDigite n: 4\nMatriz:\n[[0, 0, 0, 0],\n [0, 1, 2, 3],\n [0, 2, 4, 6],\n [0, 3, 6, 9]]\n```",
      "metadata": {}
    },
    {
      "id": "0b7ee921",
      "cell_type": "code",
      "source": "# Implemente sua soluçã# Solicita ao usuário o valor de n\nn = int(input(\"Digite n: \")) #solicita o valor de n\n\n# Cria a matriz\nmatriz = [[i * j for j in range(n)] for i in range(n)]\n\n# gera a matriz\nprint(\"Matriz:\")\nprint(matriz)",
      "metadata": {
        "trusted": true
      },
      "outputs": [],
      "execution_count": 7
    },
    {
      "id": "f41781df",
      "cell_type": "markdown",
      "source": "### Q5.\n\nDada uma lista de números inteiros, implemente uma função em Python chamada ```pares_unicos``` que encontre e retorne todos os pares únicos de elementos na lista cuja soma seja igual a um determinado valor. Considere que a ordem dos pares não é relevante.",
      "metadata": {}
    },
    {
      "id": "7a76f765",
      "cell_type": "code",
      "source": "def pares_unicos(numeros, soma_objetivo):\n    # Implemente sua solução aqui\n    pares = []  # Lista para armazenar os pares únicos\n    vistos = set()  # Para acompanhar os números já processados\n    pares_ja_adicionados = set()  # Para evitar pares duplicados\n\n    for num in numeros:\n        complemento = soma_objetivo - num\n        if complemento in vistos:\n            # Cria um par ordenado para evitar duplicatas na ordem inversa\n            par = sorted([num, complemento])\n            par_str = f\"{par[0]}-{par[1]}\"  # Representação em string para facilitar a verificação\n            if par_str not in pares_ja_adicionados:\n                pares.append(par)\n                pares_ja_adicionados.add(par_str)\n        vistos.add(num)\n\n    return pares\n# Exemplo de uso:\nnums = [3, 4, 5, 6, 7]\nsoma = 10\nresultado = pares_unicos(nums, soma)\nprint(resultado)  # Saída esperada: [(3, 7), (4, 6)]",
      "metadata": {
        "trusted": true
      },
      "outputs": [
        {
          "name": "stdout",
          "output_type": "stream",
          "text": "[[4, 6], [3, 7]]\n"
        }
      ],
      "execution_count": 8
    },
    {
      "id": "87e44893",
      "cell_type": "markdown",
      "source": "### Q5.\n\nEscreva um programa para encontrar a diferença entre duas listas, incluindo elementos duplicados.\n\nEx:\n```\nListas originais: \n[1, 1, 2, 3, 3, 4, 4, 5, 6, 7]\n[1, 1, 2, 4, 5, 6]\nDiferença entre as listas:\n[3, 3, 4, 7]\n```",
      "metadata": {}
    },
    {
      "id": "7edc027c",
      "cell_type": "code",
      "source": "# Implemente sua solução aqui\n# Listas de exemplo\nlista1 = [1, 1, 2, 3, 3, 4, 4, 5, 6, 7]\nlista2 = [1, 1, 2, 4, 5, 6]\n\n# Cria uma cópia de lista2 para manipulação\nlista2_copy = lista2.copy()\n\n# Lista para armazenar a diferença\ndiferenca = []\n\n# Itera sobre cada elemento em lista1\nfor elemento in lista1:\n    if elemento in lista2_copy:\n        lista2_copy.remove(elemento)\n    else:\n        # Se o elemento não estiver em lista2_copy, adiciona à diferença\n        diferenca.append(elemento)\n\nprint(\"Diferença entre as listas:\", diferenca)",
      "metadata": {
        "trusted": true
      },
      "outputs": [
        {
          "name": "stdout",
          "output_type": "stream",
          "text": "Diferença entre as listas: [3, 3, 4, 7]\n"
        }
      ],
      "execution_count": 12
    },
    {
      "id": "f4c4236d",
      "cell_type": "markdown",
      "source": "### Q6.\n\nDada uma lista aleatória, escreva um programa que separa os valores em listas menores de acordo com o tamanho solicitado. Caso não seja possível repartir igualmente a lista original, a última sublista deve conter os elementos remanescentes, como indicado no exemplo a seguir.\n\nNote que seu programa deve continuar executando em um laço infinito até que o usuário informe o tamanho 0 na entrada solicitada.\n\n```\nLista original:\n[12, 45, 23, 67, 78, 90, 45, 32, 100, 76, 38, 62, 73, 29, 83]\n\nTamanho para divisão: 3\nSubslistas:\n[[12, 45, 23], [67, 78, 90], [45, 32, 100], [76, 38, 62], [73, 29, 83]]\n\nTamanho para divisão: 4\nSubslistas: [[12, 45, 23, 67], [78, 90, 45, 32], [100, 76, 38, 62], [73, 29, 83]]\n\nTamanho para divisão: 0\n```",
      "metadata": {}
    },
    {
      "id": "792563de",
      "cell_type": "code",
      "source": "import random\nlista = [random.randint(1,100) for i in range(20)]\n\n# Implemente sua solução aqui\nwhile True:\n    # Solicita o tamanho de divisão ao usuário\n    tamanho = int(input(\"Tamanho para divisão (0 para sair): \"))\n    \n    # Encerra o loop se o usuário informar 0\n    if tamanho == 0:\n        print(\"Encerrando o programa.\")\n        break\n    \n    # Verifica se o tamanho é válido\n    if tamanho < 1:\n        print(\"Por favor, informe um número maior que 0.\")\n        continue\n    \n    # Divide a lista em sublistas do tamanho solicitado\n    subslistas = []\n    for i in range(0, len(lista), tamanho):\n        subslistas.append(lista[i:i + tamanho])\n    \n    # Exibe as sublistas\n    print(\"Subslistas:\")\n    print(subslistas)",
      "metadata": {
        "trusted": true
      },
      "outputs": [],
      "execution_count": 14
    },
    {
      "id": "c65be32f",
      "cell_type": "markdown",
      "source": "### Q7.\n\nVocê está desenvolvendo um programa para determinar o vencedor de um jogo da velha. Escreva uma função ```avalia_tabuleiro()``` que recebe uma lista representando o estado atual do tabuleiro e determina se há um vencedor. \n\nA lista terá 3 sublistas, cada uma representando uma linha do tabuleiro. Cada elemento das sublistas pode ser 'X', 'O' ou vazio (' ').\n\nO programa deve imprimir o vencedor ('X', 'O'), se houver um, ou \"Empate\" se não houver vencedor. Um vencedor é determinado se houver três 'X' ou três 'O' em linha (horizontal, vertical ou diagonal).\n\nExemplo:\n```python\ntabuleiro = [\n    ['X', 'O', 'X'],\n    [' ', 'X', 'O'],\n    ['O', ' ', 'O']\n]\n```\nO resultado seria \"Empate\", pois não há um vencedor no exemplo fornecido. \n\nExemplo 2:\n```python\ntabuleiro = [\n    ['O', 'X', 'O'],\n    ['X', 'O', 'X'],\n    ['X', ' ', 'O']\n]\n```\nO resultado seria \"O\", pois 'O' venceu na diagonal central.",
      "metadata": {}
    },
    {
      "id": "720ca24d",
      "cell_type": "code",
      "source": "### Escreva a função avalia_tabuleiro()\n\ndef avalia_tabuleiro(tabuleiro):\n    # Verifica linhas\n    for linha in tabuleiro:\n        if linha[0] == linha[1] == linha[2] != ' ':\n            return linha[0]\n    \n    # Verifica colunas\n    for col in range(3):\n        if tabuleiro[0][col] == tabuleiro[1][col] == tabuleiro[2][col] != ' ':\n            return tabuleiro[0][col]\n    \n    # Verifica diagonais\n    if tabuleiro[0][0] == tabuleiro[1][1] == tabuleiro[2][2] != ' ':\n        return tabuleiro[0][0]\n    if tabuleiro[0][2] == tabuleiro[1][1] == tabuleiro[2][0] != ' ':\n        return tabuleiro[0][2]\n    \n    # Se não há vencedor, verifica se há empate ou jogo em andamento\n    for linha in tabuleiro:\n        if ' ' in linha:\n            return \"Jogo em andamento\"\n    return \"Empate\"\n\n\n### teste a função nos seguintes tabuleiros\n\ntabuleiro1 = [\n    ['X', 'O', 'X'],\n    [' ', 'X', 'O'],\n    ['O', ' ', 'X']\n]\nprint(avalia_tabuleiro(tabuleiro1))\ntabuleiro2 = [\n    ['X', 'O', 'O'],\n    ['X', 'X', 'O'],\n    ['X', 'O', 'X']\n]\nprint(avalia_tabuleiro(tabuleiro2))\ntabuleiro3 = [\n    [' ', ' ', ' '],\n    ['X', ' ', 'O'],\n    ['O', 'X', 'X']\n]\nprint(avalia_tabuleiro(tabuleiro3))\ntabuleiro4 = [\n    ['O', 'O', 'O'],\n    ['X', ' ', 'X'],\n    ['O', 'X', 'X']\n]\nprint(avalia_tabuleiro(tabuleiro4))\ntabuleiro5 = [\n    ['X', 'X', 'O'],\n    ['X', ' ', 'O'],\n    ['O', 'O', 'X']\n]\nprint(avalia_tabuleiro(tabuleiro5))",
      "metadata": {
        "trusted": true
      },
      "outputs": [
        {
          "name": "stdout",
          "output_type": "stream",
          "text": "X\nX\nJogo em andamento\nO\nJogo em andamento\n"
        }
      ],
      "execution_count": 18
    },
    {
      "id": "b87bd195-17ca-4138-81bd-a2ae75cea334",
      "cell_type": "code",
      "source": "",
      "metadata": {
        "trusted": true
      },
      "outputs": [],
      "execution_count": null
    }
  ]
}