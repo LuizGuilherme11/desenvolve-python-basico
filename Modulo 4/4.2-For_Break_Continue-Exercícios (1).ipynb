{
  "metadata": {
    "kernelspec": {
      "name": "python",
      "display_name": "Python (Pyodide)",
      "language": "python"
    },
    "language_info": {
      "codemirror_mode": {
        "name": "python",
        "version": 3
      },
      "file_extension": ".py",
      "mimetype": "text/x-python",
      "name": "python",
      "nbconvert_exporter": "python",
      "pygments_lexer": "ipython3",
      "version": "3.8"
    }
  },
  "nbformat_minor": 5,
  "nbformat": 4,
  "cells": [
    {
      "id": "29e89030",
      "cell_type": "markdown",
      "source": "# Módulo 4 - Repetições\n\n## Aulas 4.2 - Comando ```for``` e 4.3 Break e Continue",
      "metadata": {}
    },
    {
      "id": "a45b42df",
      "cell_type": "markdown",
      "source": "### Q1.\n\nCrie um programa em Python que utilize o comando for para imprimir os números de 10 a 1, em ordem decrescente.",
      "metadata": {}
    },
    {
      "id": "55a75b3d",
      "cell_type": "code",
      "source": "## Escreva e execute seu código aqui\nfor n in range(10,1,-1):\n    print(n)",
      "metadata": {
        "trusted": true
      },
      "outputs": [
        {
          "name": "stdout",
          "output_type": "stream",
          "text": "10\n9\n8\n7\n6\n5\n4\n3\n2\n"
        }
      ],
      "execution_count": 3
    },
    {
      "id": "94b47c36",
      "cell_type": "markdown",
      "source": "### Q2.\n\nDado um número inteiro positivo informado pelo usuário, crie um programa em Python que utilize o comando for para calcular e exibir a soma dos números de 1 até o número informado. Ou seja, $1 + 2 + 3 + ... + n$\n\nExemplo de interação:\n```\nDigite um número: 5\nA soma dos números de 1 a 5 é 15\n```\n",
      "metadata": {}
    },
    {
      "id": "45b71596",
      "cell_type": "code",
      "source": "## Escreva e execute seu código aqui\n\n# entrada de dados\nn = int(input('digite um número inteiro: ')) # solicita o valor de n\nsoma = 0                                     # atribui valor de soma\nfor n in range(1, n+1):\n    soma += n\nprint(soma)                                  # resultado",
      "metadata": {
        "trusted": true
      },
      "outputs": [],
      "execution_count": 5
    },
    {
      "id": "0411d170",
      "cell_type": "markdown",
      "source": "### Q3.\n\nEscreva um programa que lê 10 valores inteiros positivos do usuário e ao final imprime a média dos valores digitados com duas casas decimais.\n\n```\nDigite 10 números positivos:\n3\n2\n12\n14\n20\n42\n19\n0\n8\n1\nA média dos valores digitados é 12.10\n```",
      "metadata": {}
    },
    {
      "id": "3f72f358",
      "cell_type": "code",
      "source": "## Escreva e execute seu código aqui# entrada de dados\n# entrada de dados\nsoma = 0          #atribuição de valor para soma e quantidade para 0\nquantidade = 0 \nfor n in range(10):  #colocar o fim em 10 linhas\n    valor = int(input(f\"Digite o valor {n+1} (inteiro positivo): \")) # pedir o valor\n    while valor < 0:\n       print('digite um valor inteiro: ') #verificar se o número é positivo\n       valor = int(input(f\"Digite o valor {n+1} (inteiro positivo): \"))\n    soma += valor\n    quantidade += 1\nmedia = soma / quantidade #calcular média\nprint(f\"A média dos valores é: {media:.2f}\") #imprimir valor de média/saída de dados com 2 casas décimais",
      "metadata": {
        "trusted": true
      },
      "outputs": [],
      "execution_count": 7
    },
    {
      "id": "d62e27ff",
      "cell_type": "markdown",
      "source": "### Q4.\n\nVocê vai criar um sistema que registra os resultados dos jogos do Atlético MG ao longo de um campeonato. Seu sistema vai receber os resultados de todos os jogos do Galo, e deve calcular a pontuação do time sabendo que vitórias valem 3 pontos, empates 1 ponto e derrotas 0 pontos.\n\nEntrada: <br>\nA primeira linha de entrada é um inteiro N com a quantidade jogos do galo. Para cada jogo você deve ler 2 inteiros, o primeiro com a quantidade de gols do galo e o segundo com a quantidade de gols do time oponente. \n\nSaída: <br>\nApresente a soma de vitórias, empates e derrotas do galo, junto com o cálculo da pontuação total.\n\nEx:\n```\nEntrada:\n4\n2\n0\n1\n1\n0\n3\n1\n0\n\nSaída:\nVitórias: 2\nEmpates: 1\nDerrotas: 1\nPontuação: 7\n\n```\n\n\n",
      "metadata": {}
    },
    {
      "id": "d3fdfc2a",
      "cell_type": "code",
      "source": "## Escreva e execute seu código aqui\n#entrada\n# atribuíção de valores para quantidade de jogos, vitórias, derrotas e empates\nn = int(input('número de jogos: '))\nvitória = 0\nderrota = 0\nempate = 0\n\n# perguntar a quantidade de gols de cada time e adicionar 1 ponto para o galo e acordo com o resultado (vtória, derrota ou empate)\n\nfor n in range(n):\n    gols = int(input(f\"quantidade de gols do galo no jogo {n + 1}: \"))\n    gols_oponente = int(input(f\"quantidade de gos do oponente no jogo {n + 1}: \"))\n    if gols > gols_oponente:\n        vitória += 1\n    elif gols < gols_oponente:\n        derrota += 1\n    else:\n        empate += 1\n\n#saída de dados\n# mostrar a quantidade de vitórias, empates e derrotas\n\nprint(f\"vitória: {vitória}\")\nprint(f\"derrota: {derrota}\")\nprint(f\"empate: {empate}\")\nprint(f\"pontuação total: {vitória * 3 + empate}\") # pontuação total, sendo 3 para cada vitória, 1 para cada empate e 0 para cada derrota",
      "metadata": {},
      "outputs": [],
      "execution_count": null
    },
    {
      "id": "fc98604d",
      "cell_type": "markdown",
      "source": "### Q5.\n\nFaça um programa que lê dois inteiros N e M, e imprime na tela um campo de batalha naval. O tabuleiro deve possuir N linhas e M colunas. A primeira linha é composta por um espaço em branco e o cabeçalho das colunas, ou seja, valores de 1 a M. As N linhas seguintes iniciam com o cabeçalho da linha, ou seja, seu número, seguido de M caracteres \"/\" (barra) indicando uma possível posição jogável. \n\n```\nEntrada:\n5\n4\n\nSaída:\n  1 2 3 4 \n1 / / / / \n2 / / / / \n3 / / / / \n4 / / / / \n5 / / / / \n```\n\nPara esse exercício, precisamos lembrar que o comando print implicitamente adiciona uma quebra de linha ao final da impressão. Podemos interferir no final da impressão adicionando mais uma entrada ao print. No exemplo, finalizamos cada linha com um espaço em branco:\n```python\nprint(\"Texto qualquer\", end = \" \")\n```",
      "metadata": {}
    },
    {
      "id": "a60ef197",
      "cell_type": "code",
      "source": "## Escreva e execute seu código aqui\n#entrada de dados\n# atribuinddo valores para N e M\nN = int(input('Número de linhas: '))\nM = int(input('Número de colunas: '))\n\n# imprime a primeira linha com os números de 1 a M\n\nprint(\" \", end=\" \")\nfor i in range(1, M + 1):\n    print(i, end=\" \")\nprint()\n\n# imprime as N linhas seguintes com os números das linhas e barras \"/\"\n\nfor i in range(1, N + 1):\n    print(i, end=\" \")\n    for i in range(1, M + 1):\n        print(\"/\", end=\" \")\n    print()",
      "metadata": {},
      "outputs": [],
      "execution_count": null
    },
    {
      "id": "4654dc0b",
      "cell_type": "markdown",
      "source": "---\n## Break e Continue",
      "metadata": {}
    },
    {
      "id": "24fe9d85",
      "cell_type": "markdown",
      "source": "### Q6.\n\nEscreva um programa que lê uma quantidade indefinida de valores e informa o maior e o menor valor digitados. A leitura é encerrada quando o usuário digitar o valor 0 (zero).\n\n```\nEntrada:\n12\n-1\n29\n11\n-5\n0\n\nSaída:\nMaior: 29\nMenor: -5\n```",
      "metadata": {}
    },
    {
      "id": "ee1c466a",
      "cell_type": "code",
      "source": "## Escreva e execute seu código aqui\nmaior = float('-inf') # valores para maior e menor números\nmenor = float('inf')\nwhile True: #loop para pedir os dados\n    n = int(input('Digite um número inteiro (digite 0 para encerrar): ')) #entrada de dados\n    if n == 0: break\n    if n > maior: #aualização para maior se n for maior que o número anterior\n      maior = n\n    if n < menor: #aualização para menor se n for menor que o número anterior\n      menor = n\nprint(f'O maior número é {maior}') #saída de dados\nprint(f' O menor número e {menor}')",
      "metadata": {},
      "outputs": [],
      "execution_count": null
    },
    {
      "id": "30d486f7",
      "cell_type": "markdown",
      "source": "### Q7.\n\nEscreva um programa que lê uma quantidade indefinida de valores e informa o **produto** dos valores positivos digitados. A leitura é encerrada quando o usuário digitar o valor 0 (zero).\n\n```\nEntrada:\n2\n-1\n1\n3\n-5\n0\n\nSaída:\nProduto: 6\n```",
      "metadata": {}
    },
    {
      "id": "2f1ac324",
      "cell_type": "code",
      "source": "## Escreva e execute seu código aqui\nproduto = 1 #valor inicial igual a 1 para não afetar o valor do produto\nwhile True: #loop para pedir os dados\n    n = int(input('Digite um número inteiro (digite 0 para encerrar): ')) #entrada de dados\n    if n == 0: break #quebra de dados\n    if n > 0:\n        produto = produto * n\nprint(f'o produto dos valores positivos digitados é {produto}') #saída de dados",
      "metadata": {},
      "outputs": [],
      "execution_count": null
    },
    {
      "id": "e932f3cf",
      "cell_type": "markdown",
      "source": "### Q8.\n\nVamos fazer uma calculadora que aceita expressões aritméticas de qualquer tamanho até que o usuário digite a palavra \"Fim\". Sua calculadora executa apenas as operações \"+\", \"-\".\n\n```\nEntrada:\n5\n+\n8\n-\n3\n+\n2\nFim\n\nSaída:\n12\n```",
      "metadata": {}
    },
    {
      "id": "e835d870",
      "cell_type": "code",
      "source": "## Escreva e execute seu código aqui\n# Inicializa o resultado com o primeiro número\nentrada = input('Digite um número inteiro (digite \"fim\" para encerrar): ')\n\n# Verifica se o usuário digitou \"fim\"\nif entrada == 'fim':\n    print(\"Programa encerrado.\")\nelse:\n    resultado = float(entrada)  # Converte a entrada para número float\n    while True:  # Loop para pedir os dados\n        operador = input('Digite um operador \"+\" ou \"-\" (ou \"fim\" para encerrar): ')  # Entrada do operador\n        if operador == 'fim':\n            break  # Se o operador for \"fim\", encerra o programa\n\n        entrada = input('Digite um número inteiro: ')  # Entrada do número\n        if entrada == 'fim':\n            break  # Se o número for \"fim\", encerra o programa\n\n        try:\n            n = float(entrada)  # Tenta converter a entrada para número\n        except ValueError:\n            print(\"Por favor, digite um número válido.\")  # Mensagem de erro se a entrada não for um número válido\n            continue\n\n        # Realiza a operação com base no operador fornecido\n        if operador == '+':\n            resultado += n  # Soma ao resultado\n        elif operador == '-':\n            resultado -= n  # Subtrai do resultado\n        else:\n            print(\"Operador inválido. Tente novamente.\")  # Se o operador não for \"+\" ou \"-\", exibe erro\n\n    print(\"Resultado final:\", resultado)  # Exibe o resultado final",
      "metadata": {},
      "outputs": [],
      "execution_count": null
    }
  ]
}